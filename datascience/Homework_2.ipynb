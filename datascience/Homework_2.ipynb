{
 "nbformat": 4,
 "nbformat_minor": 0,
 "metadata": {
  "colab": {
   "name": "Homework_3.ipynb",
   "provenance": []
  },
  "kernelspec": {
   "name": "python3",
   "display_name": "Python 3"
  },
  "language_info": {
   "name": "python"
  }
 },
 "cells": [
  {
   "cell_type": "markdown",
   "metadata": {
    "id": "fCmV5-kTtgZ9"
   },
   "source": [
    "# Домашнее задание №2\n",
    "## Pandas\n"
   ]
  },
  {
   "cell_type": "markdown",
   "metadata": {
    "id": "J2iKu4jvuL7T"
   },
   "source": [
    "### В этом домашнем задании не будет как таковых задач. Только несколько простых заданий, чтобы освоиться в важнейшей библиотеке pandas."
   ]
  },
  {
   "cell_type": "markdown",
   "metadata": {
    "id": "MAK5esCQtn5p"
   },
   "source": [
    "### №1\n",
    "Импортируйте пандас как pd и считайте файл TSLA.csv (https://www.kaggle.com/efekurdoglu/teslastockprice/data) как датафрейм"
   ]
  },
  {
   "cell_type": "code",
   "metadata": {
    "id": "nNnEuoEntfyF"
   },
   "source": [],
   "execution_count": null,
   "outputs": []
  },
  {
   "cell_type": "markdown",
   "metadata": {
    "id": "DTD6BPPguazB"
   },
   "source": [
    "## №2\n",
    "Удалите из столбца Close значения, целые части которых кратны 6"
   ]
  },
  {
   "cell_type": "code",
   "metadata": {
    "id": "K2JCVNS5uZIL"
   },
   "source": [],
   "execution_count": null,
   "outputs": []
  },
  {
   "cell_type": "markdown",
   "metadata": {
    "id": "f_B8hPhsvAe2"
   },
   "source": [
    "## №3\n",
    "Теперь попробуйте заполнить пропуски средним значением в столбце, потом минимумом, потом медианой"
   ]
  },
  {
   "cell_type": "code",
   "metadata": {
    "id": "6tHjjxyjvPIr"
   },
   "source": [],
   "execution_count": null,
   "outputs": []
  },
  {
   "cell_type": "markdown",
   "metadata": {
    "id": "uPS4CYloxo0x"
   },
   "source": [
    "## №4\n",
    "А теперь попробуйте заполнить эти пропуски средним между всеми значениями, кратным 5 и всеми значениями, кратным 7 (т.е. выберите все значение, кратные 5 и найдите их среднее, а потом все значение, кратные 7, найдите среднее среди них, а потом усредните два полученных значения)."
   ]
  },
  {
   "cell_type": "code",
   "metadata": {
    "id": "6InI1iCuyI11"
   },
   "source": [],
   "execution_count": null,
   "outputs": []
  },
  {
   "cell_type": "markdown",
   "metadata": {
    "id": "EUcBk13QvPom"
   },
   "source": [
    "## №5\n",
    "Импортируйте matplotlib.pyplot как plt. Постройте графики получишвихся наборов значений. Чтобы получше разглядеть, найдите как в pyplot задать размер графика и поставьте побольше. <br>\n",
    "Оцените результаты, выберите какой вариант кажется наиболее разумным."
   ]
  },
  {
   "cell_type": "code",
   "metadata": {
    "id": "FnqHVjILvjBJ"
   },
   "source": [],
   "execution_count": null,
   "outputs": []
  },
  {
   "cell_type": "markdown",
   "metadata": {
    "id": "Ixs5o3quyK6l"
   },
   "source": [
    "## №6\n",
    "Приведите столбец High к строковому типу. Найдите все строки, где содержится цифра 9. <br>\n",
    "*Подсказка*: загуглите pandas.str"
   ]
  },
  {
   "cell_type": "code",
   "metadata": {
    "id": "BktFtfMpyLKc"
   },
   "source": [],
   "execution_count": null,
   "outputs": []
  },
  {
   "cell_type": "markdown",
   "metadata": {
    "id": "SpC8lLEkyfih"
   },
   "source": [
    "## №7\n",
    "А теперь найдите в этом столбце строки, которые содержат цифру 4, но не содержат цифру 8."
   ]
  },
  {
   "cell_type": "code",
   "metadata": {
    "id": "92jJNJL9yfub"
   },
   "source": [],
   "execution_count": null,
   "outputs": []
  },
  {
   "cell_type": "markdown",
   "metadata": {
    "id": "s9vjRNLDy01A"
   },
   "source": [
    "## №8\n",
    "И наконец найдите в столбце Hihg (пусть там все еще будет строковый тип) такие строчки, у которых в дробной части есть цифра 3 и замените ее на 4. <br>\n",
    "*Подсказка*: может помочь метод split. <br>\n",
    "А потом замените эти значения в датафрейме на какое-нибудь слово. Например, лопата."
   ]
  },
  {
   "cell_type": "code",
   "metadata": {
    "id": "aDQsTsHQy09o"
   },
   "source": [],
   "execution_count": null,
   "outputs": []
  },
  {
   "cell_type": "markdown",
   "metadata": {
    "id": "jjWez_hfvktW"
   },
   "source": [
    "## №9\n",
    "Сейчас вы научитесь нормализовывать данные. Но сначала я объясню, зачем. <br>\n",
    "\n",
    "Алгоритмы машинного обучения, как правило, работают лучше или сходятся быстрее, когда различные функции (переменные) имеют меньший масштаб. Поэтому перед обучением на них моделей машинного обучения данные обычно нормализуются.\n",
    "\n",
    "Нормализация также делает процесс обучения менее чувствительным к масштабу функций. Это приводит к улучшению коэффициентов после тренировки.\n",
    "\n",
    "Этот процесс повышения пригодности функций для обучения путем изменения масштаба называется масштабированием функций."
   ]
  },
  {
   "cell_type": "markdown",
   "metadata": {
    "id": "OQjIfCa6wFwm"
   },
   "source": [
    "Вот формула, которую часто применяют для нормализации значений одного столбца:\n",
    "$$ x_{norm} = \\frac{x - x_{min}}{x_{max} - x_{min}}, $$\n",
    "где, понятное дело x - значение в конкретной строке выбранного столбца, xmax - максимальное значение этого столбца, а xmin - минимальное значение этого столбца.\n",
    "\n",
    "Примените эту формулу к столбцу Open (используйте метод apply)."
   ]
  },
  {
   "cell_type": "code",
   "metadata": {
    "id": "euVZfsvmwFCG"
   },
   "source": [],
   "execution_count": null,
   "outputs": []
  },
  {
   "cell_type": "markdown",
   "metadata": {
    "id": "cGAHloxazpW1"
   },
   "source": [
    "## №10\n",
    "И, правда наконец, создайте пустой датафрейм с такими же колонками, как TSLA. Пусть в нем будет 10 строк. И пусть они будут заполнены такими значениями: в i-й строке j-го столбца должна быть j-ая степень числа i+j. Добавьте этот датафрейм в конец исходного. <br>\n",
    "Используйте метод tail, чтобы увидеть конец полученного датафрейма и порадоваться, что у вас все получилось и вы готовы реально обрабатывать датафреймы и заниматься дата сасом."
   ]
  },
  {
   "cell_type": "code",
   "metadata": {
    "id": "7NpyHBRuzpj-"
   },
   "source": [
    ""
   ],
   "execution_count": null,
   "outputs": []
  }
 ]
}