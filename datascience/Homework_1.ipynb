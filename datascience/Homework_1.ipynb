{
 "cells": [
  {
   "cell_type": "markdown",
   "metadata": {},
   "source": [
    "# Домашнее задание #1"
   ]
  },
  {
   "cell_type": "markdown",
   "metadata": {},
   "source": [
    "Для начала вам понадобится импортировать модуль `numpy` как `np`"
   ]
  },
  {
   "cell_type": "code",
   "execution_count": 2,
   "metadata": {},
   "outputs": [],
   "source": [
    "import numpy as np"
   ]
  },
  {
   "cell_type": "markdown",
   "metadata": {},
   "source": [
    "## Задача №1"
   ]
  },
  {
   "cell_type": "markdown",
   "metadata": {},
   "source": [
    "Считайте (через `input`) 2 числа: <br>\n",
    "`n` - размер `Numpy` вектора; <br>\n",
    "`x` - координата элемента вектора, который должен быть равен `1`. Остальные должны быть равны `0`. <br>\n",
    "Создайте вектор размера `n`, в котором все элементы равны `0`, кроме элемента с номером `x` - он равен `1`.\n"
   ]
  },
  {
   "cell_type": "code",
   "execution_count": 5,
   "metadata": {},
   "outputs": [
    {
     "name": "stdout",
     "output_type": "stream",
     "text": [
      "5\n",
      "2\n",
      "[0. 0. 1. 0. 0.]\n"
     ]
    }
   ],
   "source": [
    "n = int(input())\n",
    "x = int(input())\n",
    "v = np.linspace(0,0,n)\n",
    "v[x]=1\n",
    "print(v)"
   ]
  },
  {
   "cell_type": "markdown",
   "metadata": {},
   "source": [
    "## Задача №2"
   ]
  },
  {
   "cell_type": "markdown",
   "metadata": {},
   "source": [
    "Считайте 3 числа: `n, m, s`. Создайте `Numpy` вектор, состоящий из чисел от `n` до `m` с шагом `s`."
   ]
  },
  {
   "cell_type": "code",
   "execution_count": 11,
   "metadata": {},
   "outputs": [
    {
     "name": "stdout",
     "output_type": "stream",
     "text": [
      "1\n",
      "10\n",
      "2\n",
      "[1 3 5 7 9]\n"
     ]
    }
   ],
   "source": [
    "n = int(input())\n",
    "m = int(input())\n",
    "s = int(input())\n",
    "a = np.arange(n,m,s)\n",
    "print(a)"
   ]
  },
  {
   "cell_type": "markdown",
   "metadata": {},
   "source": [
    "## Задача №3"
   ]
  },
  {
   "cell_type": "markdown",
   "metadata": {},
   "source": [
    "Создайте матрицу `3х3` со значениями от `0` до `8`. Значения нужно сгенерировать."
   ]
  },
  {
   "cell_type": "code",
   "execution_count": 12,
   "metadata": {},
   "outputs": [
    {
     "name": "stdout",
     "output_type": "stream",
     "text": [
      "[[0. 1. 2.]\n",
      " [3. 4. 5.]\n",
      " [6. 7. 8.]]\n"
     ]
    }
   ],
   "source": [
    "b = np.linspace(0, 8, 9)\n",
    "b.shape = 3,3\n",
    "print(b)"
   ]
  },
  {
   "cell_type": "markdown",
   "metadata": {},
   "source": [
    "## Задача №4"
   ]
  },
  {
   "cell_type": "markdown",
   "metadata": {},
   "source": [
    "1. Создайте матрицу `4х4` со случайными значениями.\n",
    "2. Найдите максимальное значение первой строки, минимальное - второй, среднее - третьей, сумму - четвертой."
   ]
  },
  {
   "cell_type": "code",
   "execution_count": 15,
   "metadata": {},
   "outputs": [
    {
     "name": "stdout",
     "output_type": "stream",
     "text": [
      "0.7307755001276426\n",
      "0.6659686877650131\n",
      "0.5693468508896969\n",
      "1.6879284746452754\n"
     ]
    }
   ],
   "source": [
    "c = np.random.random(16)\n",
    "c.shape = 4,4\n",
    "print(c[0].max())\n",
    "print(c[1].min())\n",
    "print(c[2].mean())\n",
    "print(c[3].sum())"
   ]
  },
  {
   "cell_type": "markdown",
   "metadata": {},
   "source": [
    "## Задача №5"
   ]
  },
  {
   "cell_type": "markdown",
   "metadata": {},
   "source": [
    "Создайте диагональную матрицу `5х5`, все ненулевые элементы равны 5."
   ]
  },
  {
   "cell_type": "code",
   "execution_count": 21,
   "metadata": {},
   "outputs": [
    {
     "name": "stdout",
     "output_type": "stream",
     "text": [
      "[[5. 0. 0. 0. 0.]\n",
      " [0. 5. 0. 0. 0.]\n",
      " [0. 0. 5. 0. 0.]\n",
      " [0. 0. 0. 5. 0.]\n",
      " [0. 0. 0. 0. 5.]]\n"
     ]
    }
   ],
   "source": [
    "d = np.eye(5)\n",
    "d = d*5\n",
    "print(d)\n"
   ]
  },
  {
   "cell_type": "markdown",
   "metadata": {},
   "source": [
    "## Задача №6"
   ]
  },
  {
   "cell_type": "markdown",
   "metadata": {},
   "source": [
    "Создайте `Numpy` массив случайных чисел размерности `6х6х6` и найдите максимальное значение среди всех элементов."
   ]
  },
  {
   "cell_type": "code",
   "execution_count": 19,
   "metadata": {},
   "outputs": [
    {
     "name": "stdout",
     "output_type": "stream",
     "text": [
      "0.9918474630372078\n"
     ]
    }
   ],
   "source": [
    "e = np.random.random(6**3)\n",
    "e.shape = 6,6,6\n",
    "print(e.max())"
   ]
  },
  {
   "cell_type": "markdown",
   "metadata": {},
   "source": [
    "## Задача №7"
   ]
  },
  {
   "cell_type": "markdown",
   "metadata": {},
   "source": [
    "Напишите функцию, которая принимает на вход 2 `Numpy` матрицы, проверяет, можно ли их перемножить, и если можно - то перемножает и возвращает транспонированную результирующую матрицу."
   ]
  },
  {
   "cell_type": "code",
   "execution_count": 24,
   "metadata": {},
   "outputs": [],
   "source": [
    "def multiply(a,b):\n",
    "    if a.shape[1] == b.shape[0]:\n",
    "        return (a@b).T\n",
    "    else:\n",
    "        print(\"Матрицы невозвомжно перемножить\")"
   ]
  },
  {
   "cell_type": "markdown",
   "metadata": {},
   "source": [
    "## Задача №8"
   ]
  },
  {
   "cell_type": "markdown",
   "metadata": {},
   "source": [
    "Эту задачу можете как запрограммировать, так и решить на листочке.\n",
    "\n",
    "Но проще, конечно, **запрограммировать**.\n",
    "\n",
    "Здесь вам придется заглянуть в ноутбук [\"Функция одной переменной/Производная функции многих переменных\"](./Derivative.ipynb) и убедиться, что вы поняли, как дифференцировать функцию многих переменных, а также в ноутбук [\"Оптимизация функции одной и многих переменных\"](./Optimization.ipynb) и убедиться, что вы поняли, как работает градиентный спуск. Если все-таки не поняли - пишите в [чат](https://t.me/joinchat/01_ttlSQj3hjZTg6), тегайте меня, `@leonidt`, пришлю вам что-нибудь в помощь."
   ]
  },
  {
   "cell_type": "markdown",
   "metadata": {},
   "source": [
    "Дана функция:\n",
    "\n",
    "$$ f(x_1, x_2) = x_1^2 + 2x_2^2 + e^{x_1+x_2} $$\n",
    "\n",
    "Найдите минимум данной функции, завершив вычисления при погрешности $$\\varepsilon = 0.5 $$, выбрав в качестве начального приблежения точку `(0, 0)` и коэффициент шага $$ H=0.1. $$"
   ]
  },
  {
   "cell_type": "code",
   "execution_count": null,
   "metadata": {},
   "outputs": [],
   "source": []
  }
 ],
 "metadata": {
  "kernelspec": {
   "display_name": "Python 3",
   "language": "python",
   "name": "python3"
  },
  "language_info": {
   "codemirror_mode": {
    "name": "ipython",
    "version": 3
   },
   "file_extension": ".py",
   "mimetype": "text/x-python",
   "name": "python",
   "nbconvert_exporter": "python",
   "pygments_lexer": "ipython3",
   "version": "3.8.8"
  }
 },
 "nbformat": 4,
 "nbformat_minor": 4
}
