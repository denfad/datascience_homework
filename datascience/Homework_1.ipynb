{
 "cells": [
  {
   "cell_type": "markdown",
   "metadata": {},
   "source": [
    "# Домашнее задание #1"
   ]
  },
  {
   "cell_type": "markdown",
   "metadata": {},
   "source": [
    "Для начала вам понадобится импортировать модуль `numpy` как `np`"
   ]
  },
  {
   "cell_type": "code",
   "execution_count": null,
   "metadata": {},
   "outputs": [],
   "source": [
    "# Начните писать код тут"
   ]
  },
  {
   "cell_type": "markdown",
   "metadata": {},
   "source": [
    "## Задача №1"
   ]
  },
  {
   "cell_type": "markdown",
   "metadata": {},
   "source": [
    "Считайте (через `input`) 2 числа: <br>\n",
    "`n` - размер `Numpy` вектора; <br>\n",
    "`x` - координата элемента вектора, который должен быть равен `1`. Остальные должны быть равны `0`. <br>\n",
    "Создайте вектор размера `n`, в котором все элементы равны `0`, кроме элемента с номером `x` - он равен `1`.\n"
   ]
  },
  {
   "cell_type": "code",
   "execution_count": null,
   "metadata": {},
   "outputs": [],
   "source": [
    "# Начните писать код тут"
   ]
  },
  {
   "cell_type": "markdown",
   "metadata": {},
   "source": [
    "## Задача №2"
   ]
  },
  {
   "cell_type": "markdown",
   "metadata": {},
   "source": [
    "Считайте 3 числа: `n, m, s`. Создайте `Numpy` вектор, состоящий из чисел от `n` до `m` с шагом `s`."
   ]
  },
  {
   "cell_type": "code",
   "execution_count": null,
   "metadata": {},
   "outputs": [],
   "source": [
    "# Начните писать код тут"
   ]
  },
  {
   "cell_type": "markdown",
   "metadata": {},
   "source": [
    "## Задача №3"
   ]
  },
  {
   "cell_type": "markdown",
   "metadata": {},
   "source": [
    "Создайте матрицу `3х3` со значениями от `0` до `8`. Значения нужно сгенерировать."
   ]
  },
  {
   "cell_type": "code",
   "execution_count": null,
   "metadata": {},
   "outputs": [],
   "source": [
    "# Начните писать код тут"
   ]
  },
  {
   "cell_type": "markdown",
   "metadata": {},
   "source": [
    "## Задача №4"
   ]
  },
  {
   "cell_type": "markdown",
   "metadata": {},
   "source": [
    "1. Создайте матрицу `4х4` со случайными значениями.\n",
    "2. Найдите максимальное значение первой строки, минимальное - второй, среднее - третьей, сумму - четвертой."
   ]
  },
  {
   "cell_type": "code",
   "execution_count": null,
   "metadata": {},
   "outputs": [],
   "source": [
    "# Начните писать код тут"
   ]
  },
  {
   "cell_type": "markdown",
   "metadata": {},
   "source": [
    "## Задача №5"
   ]
  },
  {
   "cell_type": "markdown",
   "metadata": {},
   "source": [
    "Создайте диагональную матрицу `5х5`, все ненулевые элементы равны 5."
   ]
  },
  {
   "cell_type": "code",
   "execution_count": null,
   "metadata": {},
   "outputs": [],
   "source": [
    "# Начните писать код тут"
   ]
  },
  {
   "cell_type": "markdown",
   "metadata": {},
   "source": [
    "## Задача №6"
   ]
  },
  {
   "cell_type": "markdown",
   "metadata": {},
   "source": [
    "Создайте `Numpy` массив случайных чисел размерности `6х6х6` и найдите максимальное значение среди всех элементов."
   ]
  },
  {
   "cell_type": "code",
   "execution_count": null,
   "metadata": {},
   "outputs": [],
   "source": [
    "# Начните писать код тут"
   ]
  },
  {
   "cell_type": "markdown",
   "metadata": {},
   "source": [
    "## Задача №7"
   ]
  },
  {
   "cell_type": "markdown",
   "metadata": {},
   "source": [
    "Напишите функцию, которая принимает на вход 2 `Numpy` матрицы, проверяет, можно ли их перемножить, и если можно - то перемножает и возвращает транспонированную результирующую матрицу."
   ]
  },
  {
   "cell_type": "code",
   "execution_count": null,
   "metadata": {},
   "outputs": [],
   "source": [
    "# Начните писать код тут"
   ]
  },
  {
   "cell_type": "markdown",
   "metadata": {},
   "source": [
    "## Задача №8"
   ]
  },
  {
   "cell_type": "markdown",
   "metadata": {},
   "source": [
    "Эту задачу можете как запрограммировать, так и решить на листочке.\n",
    "\n",
    "Но проще, конечно, **запрограммировать**.\n",
    "\n",
    "Здесь вам придется заглянуть в ноутбук [\"Функция одной переменной/Производная функции многих переменных\"](./Derivative.ipynb) и убедиться, что вы поняли, как дифференцировать функцию многих переменных, а также в ноутбук [\"Оптимизация функции одной и многих переменных\"](./Optimization.ipynb) и убедиться, что вы поняли, как работает градиентный спуск. Если все-таки не поняли - пишите в [чат](https://t.me/joinchat/01_ttlSQj3hjZTg6), тегайте меня, `@leonidt`, пришлю вам что-нибудь в помощь."
   ]
  },
  {
   "cell_type": "markdown",
   "metadata": {},
   "source": [
    "Дана функция:\n",
    "\n",
    "$$ f(x_1, x_2) = x_1^2 + 2x_2^2 + e^{x_1+x_2} $$\n",
    "\n",
    "Найдите минимум данной функции, завершив вычисления при погрешности $$\\varepsilon = 0.5 $$, выбрав в качестве начального приблежения точку `(0, 0)` и коэффициент шага $$ H=0.1. $$"
   ]
  },
  {
   "cell_type": "code",
   "execution_count": null,
   "metadata": {},
   "outputs": [],
   "source": [
    "# Начните писать код тут"
   ]
  }
 ],
 "metadata": {
  "kernelspec": {
   "display_name": "Python 3",
   "language": "python",
   "name": "python3"
  },
  "language_info": {
   "codemirror_mode": {
    "name": "ipython",
    "version": 3
   },
   "file_extension": ".py",
   "mimetype": "text/x-python",
   "name": "python",
   "nbconvert_exporter": "python",
   "pygments_lexer": "ipython3",
   "version": "3.8.5"
  }
 },
 "nbformat": 4,
 "nbformat_minor": 4
}