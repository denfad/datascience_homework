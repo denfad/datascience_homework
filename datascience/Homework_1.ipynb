{
 "cells": [
  {
   "cell_type": "markdown",
   "metadata": {},
   "source": [
    "# Домашнее задание #1"
   ]
  },
  {
   "cell_type": "markdown",
   "metadata": {},
   "source": [
    "Для начала вам понадобится импортировать модуль `numpy` как `np`"
   ]
  },
  {
   "cell_type": "code",
   "execution_count": 2,
   "metadata": {},
   "outputs": [],
   "source": [
    "import numpy as np"
   ]
  },
  {
   "cell_type": "markdown",
   "metadata": {},
   "source": [
    "## Задача №1"
   ]
  },
  {
   "cell_type": "markdown",
   "metadata": {},
   "source": [
    "Считайте (через `input`) 2 числа: <br>\n",
    "`n` - размер `Numpy` вектора; <br>\n",
    "`x` - координата элемента вектора, который должен быть равен `1`. Остальные должны быть равны `0`. <br>\n",
    "Создайте вектор размера `n`, в котором все элементы равны `0`, кроме элемента с номером `x` - он равен `1`.\n"
   ]
  },
  {
   "cell_type": "code",
   "execution_count": 5,
   "metadata": {},
   "outputs": [
    {
     "name": "stdout",
     "output_type": "stream",
     "text": [
      "5\n",
      "2\n",
      "[0. 0. 1. 0. 0.]\n"
     ]
    }
   ],
   "source": [
    "n = int(input())\n",
    "x = int(input())\n",
    "v = np.linspace(0,0,n)\n",
    "v[x]=1\n",
    "print(v)"
   ]
  },
  {
   "cell_type": "markdown",
   "metadata": {},
   "source": [
    "## Задача №2"
   ]
  },
  {
   "cell_type": "markdown",
   "metadata": {},
   "source": [
    "Считайте 3 числа: `n, m, s`. Создайте `Numpy` вектор, состоящий из чисел от `n` до `m` с шагом `s`."
   ]
  },
  {
   "cell_type": "code",
   "execution_count": 11,
   "metadata": {},
   "outputs": [
    {
     "name": "stdout",
     "output_type": "stream",
     "text": [
      "1\n",
      "10\n",
      "2\n",
      "[1 3 5 7 9]\n"
     ]
    }
   ],
   "source": [
    "n = int(input())\n",
    "m = int(input())\n",
    "s = int(input())\n",
    "a = np.arange(n,m,s)\n",
    "print(a)"
   ]
  },
  {
   "cell_type": "markdown",
   "metadata": {},
   "source": [
    "## Задача №3"
   ]
  },
  {
   "cell_type": "markdown",
   "metadata": {},
   "source": [
    "Создайте матрицу `3х3` со значениями от `0` до `8`. Значения нужно сгенерировать."
   ]
  },
  {
   "cell_type": "code",
   "execution_count": 12,
   "metadata": {},
   "outputs": [
    {
     "name": "stdout",
     "output_type": "stream",
     "text": [
      "[[0. 1. 2.]\n",
      " [3. 4. 5.]\n",
      " [6. 7. 8.]]\n"
     ]
    }
   ],
   "source": [
    "b = np.linspace(0, 8, 9)\n",
    "b.shape = 3,3\n",
    "print(b)"
   ]
  },
  {
   "cell_type": "markdown",
   "metadata": {},
   "source": [
    "## Задача №4"
   ]
  },
  {
   "cell_type": "markdown",
   "metadata": {},
   "source": [
    "1. Создайте матрицу `4х4` со случайными значениями.\n",
    "2. Найдите максимальное значение первой строки, минимальное - второй, среднее - третьей, сумму - четвертой."
   ]
  },
  {
   "cell_type": "code",
   "execution_count": 15,
   "metadata": {},
   "outputs": [
    {
     "name": "stdout",
     "output_type": "stream",
     "text": [
      "0.7307755001276426\n",
      "0.6659686877650131\n",
      "0.5693468508896969\n",
      "1.6879284746452754\n"
     ]
    }
   ],
   "source": [
    "c = np.random.random(16)\n",
    "c.shape = 4,4\n",
    "print(c[0].max())\n",
    "print(c[1].min())\n",
    "print(c[2].mean())\n",
    "print(c[3].sum())"
   ]
  },
  {
   "cell_type": "markdown",
   "metadata": {},
   "source": [
    "## Задача №5"
   ]
  },
  {
   "cell_type": "markdown",
   "metadata": {},
   "source": [
    "Создайте диагональную матрицу `5х5`, все ненулевые элементы равны 5."
   ]
  },
  {
   "cell_type": "code",
   "execution_count": 21,
   "metadata": {},
   "outputs": [
    {
     "name": "stdout",
     "output_type": "stream",
     "text": [
      "[[5. 0. 0. 0. 0.]\n",
      " [0. 5. 0. 0. 0.]\n",
      " [0. 0. 5. 0. 0.]\n",
      " [0. 0. 0. 5. 0.]\n",
      " [0. 0. 0. 0. 5.]]\n"
     ]
    }
   ],
   "source": [
    "d = np.eye(5)\n",
    "d = d*5\n",
    "print(d)\n"
   ]
  },
  {
   "cell_type": "markdown",
   "metadata": {},
   "source": [
    "## Задача №6"
   ]
  },
  {
   "cell_type": "markdown",
   "metadata": {},
   "source": [
    "Создайте `Numpy` массив случайных чисел размерности `6х6х6` и найдите максимальное значение среди всех элементов."
   ]
  },
  {
   "cell_type": "code",
   "execution_count": 3,
   "metadata": {},
   "outputs": [
    {
     "name": "stdout",
     "output_type": "stream",
     "text": [
      "0.9998725368115479\n"
     ]
    },
    {
     "data": {
      "text/plain": [
       "array([[[9.00892767e-01, 4.62712522e-01, 6.96139255e-01, 2.82650206e-01,\n",
       "         1.20525855e-01, 8.12376176e-01],\n",
       "        [8.69616993e-01, 9.40861544e-01, 5.89068526e-01, 4.92292706e-01,\n",
       "         4.88121139e-01, 5.89228746e-02],\n",
       "        [8.35363685e-01, 1.56240840e-01, 9.71943416e-01, 4.46100036e-01,\n",
       "         4.70978713e-01, 3.80334713e-01],\n",
       "        [7.32022147e-01, 9.69687949e-01, 1.67379019e-01, 7.12106911e-01,\n",
       "         1.29892483e-01, 1.82388998e-01],\n",
       "        [5.30431022e-01, 4.31647808e-02, 4.57661191e-01, 9.04028481e-01,\n",
       "         4.34554232e-01, 9.45504399e-01],\n",
       "        [2.36842952e-01, 2.60113653e-01, 1.19353196e-01, 7.13108613e-01,\n",
       "         3.33883500e-01, 9.17603878e-01]],\n",
       "\n",
       "       [[2.13577556e-02, 7.61528324e-01, 3.93555509e-01, 6.75116781e-01,\n",
       "         6.14669104e-01, 7.05871523e-01],\n",
       "        [8.83045426e-01, 5.13651991e-01, 4.06446862e-01, 9.41773678e-01,\n",
       "         6.33789907e-01, 9.68570804e-01],\n",
       "        [8.98933791e-01, 3.58299118e-01, 9.37105775e-01, 5.01580330e-01,\n",
       "         4.84341366e-01, 7.42675386e-01],\n",
       "        [7.29717072e-01, 7.53112775e-02, 8.64602488e-01, 9.99872537e-01,\n",
       "         3.65453570e-01, 4.62864645e-01],\n",
       "        [4.42230395e-01, 5.04002902e-01, 1.54792401e-01, 5.19463249e-01,\n",
       "         9.93493864e-01, 9.70626522e-01],\n",
       "        [3.00133865e-01, 7.33881881e-01, 3.45852224e-02, 4.92648849e-01,\n",
       "         8.18140322e-01, 6.83871529e-01]],\n",
       "\n",
       "       [[1.11814101e-01, 5.32099664e-01, 3.65936484e-01, 3.88934648e-01,\n",
       "         8.46427467e-01, 4.25497959e-01],\n",
       "        [5.79348398e-01, 8.58296158e-01, 7.85336907e-01, 8.43046119e-02,\n",
       "         8.23449483e-01, 3.10070234e-01],\n",
       "        [6.59409339e-01, 6.53585175e-01, 8.04276036e-01, 4.78106718e-01,\n",
       "         7.95301282e-01, 7.22296500e-01],\n",
       "        [6.02561272e-03, 3.13922104e-01, 2.06876667e-01, 6.82215586e-01,\n",
       "         1.43834681e-01, 1.43336022e-02],\n",
       "        [1.71223367e-01, 6.29577051e-01, 3.43313572e-01, 2.22759025e-01,\n",
       "         1.89114007e-02, 1.50442899e-01],\n",
       "        [6.07005869e-01, 9.43371074e-01, 4.18569432e-01, 1.22112579e-02,\n",
       "         4.97292515e-01, 1.86872748e-01]],\n",
       "\n",
       "       [[2.76539904e-02, 3.40188589e-01, 8.90335973e-01, 8.33792281e-01,\n",
       "         6.10107410e-01, 9.84276089e-01],\n",
       "        [4.04345249e-01, 2.11468991e-01, 4.62124912e-01, 3.86461892e-01,\n",
       "         6.50560497e-01, 9.79819595e-01],\n",
       "        [7.88684089e-01, 2.08059285e-01, 1.48903387e-01, 3.29771929e-01,\n",
       "         8.06700374e-01, 9.15887359e-01],\n",
       "        [5.17097979e-04, 4.66469611e-01, 1.64524266e-01, 2.25123792e-01,\n",
       "         2.83764370e-01, 3.32364804e-02],\n",
       "        [9.54316662e-01, 6.31236435e-01, 8.37235356e-01, 1.98213530e-01,\n",
       "         8.64945309e-01, 7.68897502e-02],\n",
       "        [4.16308401e-01, 2.02454814e-02, 1.88601402e-01, 7.47301563e-01,\n",
       "         9.49386317e-01, 3.69928722e-01]],\n",
       "\n",
       "       [[7.74785969e-01, 1.79166224e-01, 3.01696941e-01, 5.81995174e-01,\n",
       "         6.29987710e-01, 1.70398193e-01],\n",
       "        [9.35246261e-01, 2.77256106e-01, 4.44304103e-01, 5.10157175e-01,\n",
       "         6.11411383e-01, 8.42677700e-01],\n",
       "        [5.07936370e-01, 1.87470302e-01, 8.91192952e-01, 1.20297156e-01,\n",
       "         8.66181508e-01, 1.59846605e-02],\n",
       "        [8.77129828e-01, 4.94126871e-01, 4.39698538e-01, 7.63565823e-01,\n",
       "         7.19312908e-01, 6.52495131e-01],\n",
       "        [5.59567941e-01, 4.74393449e-01, 7.98013720e-01, 8.40177122e-01,\n",
       "         1.99548707e-01, 4.59182784e-01],\n",
       "        [3.14809453e-01, 3.70977844e-01, 1.62090431e-01, 5.88673301e-01,\n",
       "         6.04418453e-01, 9.67554572e-01]],\n",
       "\n",
       "       [[1.62749907e-01, 1.64908373e-01, 3.05238456e-01, 6.77687973e-01,\n",
       "         3.23808534e-02, 7.18704473e-02],\n",
       "        [3.95537995e-01, 5.77211048e-01, 8.44754571e-01, 5.01971803e-01,\n",
       "         6.20014429e-01, 1.98722420e-02],\n",
       "        [1.12019495e-02, 1.97303054e-01, 4.92149171e-01, 9.14243482e-01,\n",
       "         2.85132567e-01, 7.30595012e-01],\n",
       "        [1.47127914e-01, 8.12323989e-01, 7.22237163e-01, 7.54769203e-01,\n",
       "         9.11556690e-01, 6.94155966e-01],\n",
       "        [9.41339089e-01, 3.47268435e-01, 3.44116853e-01, 4.03872418e-01,\n",
       "         8.06903485e-01, 3.61361658e-01],\n",
       "        [7.50690941e-01, 2.97630889e-01, 2.80580909e-01, 3.10534307e-01,\n",
       "         8.82892691e-01, 4.20460614e-01]]])"
      ]
     },
     "execution_count": 3,
     "metadata": {},
     "output_type": "execute_result"
    }
   ],
   "source": [
    "e = np.random.random(6**3)\n",
    "e.shape = 6,6,6\n",
    "print(e.max())\n",
    "e"
   ]
  },
  {
   "cell_type": "markdown",
   "metadata": {},
   "source": [
    "## Задача №7"
   ]
  },
  {
   "cell_type": "markdown",
   "metadata": {},
   "source": [
    "Напишите функцию, которая принимает на вход 2 `Numpy` матрицы, проверяет, можно ли их перемножить, и если можно - то перемножает и возвращает транспонированную результирующую матрицу."
   ]
  },
  {
   "cell_type": "code",
   "execution_count": 24,
   "metadata": {},
   "outputs": [],
   "source": [
    "def multiply(a,b):\n",
    "    if a.shape[1] == b.shape[0]:\n",
    "        return (a@b).T\n",
    "    else:\n",
    "        print(\"Матрицы невозвомжно перемножить\")"
   ]
  },
  {
   "cell_type": "markdown",
   "metadata": {},
   "source": [
    "## Задача №8"
   ]
  },
  {
   "cell_type": "markdown",
   "metadata": {},
   "source": [
    "Эту задачу можете как запрограммировать, так и решить на листочке.\n",
    "\n",
    "Но проще, конечно, **запрограммировать**.\n",
    "\n",
    "Здесь вам придется заглянуть в ноутбук [\"Функция одной переменной/Производная функции многих переменных\"](./Derivative.ipynb) и убедиться, что вы поняли, как дифференцировать функцию многих переменных, а также в ноутбук [\"Оптимизация функции одной и многих переменных\"](./Optimization.ipynb) и убедиться, что вы поняли, как работает градиентный спуск. Если все-таки не поняли - пишите в [чат](https://t.me/joinchat/01_ttlSQj3hjZTg6), тегайте меня, `@leonidt`, пришлю вам что-нибудь в помощь."
   ]
  },
  {
   "cell_type": "markdown",
   "metadata": {},
   "source": [
    "Дана функция:\n",
    "\n",
    "$$ f(x_1, x_2) = x_1^2 + 2x_2^2 + e^{x_1+x_2} $$\n",
    "\n",
    "Найдите минимум данной функции, завершив вычисления при погрешности $$\\varepsilon = 0.5 $$, выбрав в качестве начального приблежения точку `(0, 0)` и коэффициент шага $$ H=0.1. $$"
   ]
  },
  {
   "cell_type": "code",
   "execution_count": 3,
   "metadata": {},
   "outputs": [
    {
     "data": {
      "image/png": "[encoded data removed]",
      "text/plain": [
       "<Figure size 432x288 with 1 Axes>"
      ]
     },
     "metadata": {
      "needs_background": "light"
     },
     "output_type": "display_data"
    }
   ],
   "source": [
    "import matplotlib.pyplot as plt\n",
    "from mpl_toolkits.mplot3d import Axes3D\n",
    "import math\n",
    "\n",
    "\n",
    "def F(x1,x2):\n",
    "    return  x1**2+2*x2**2+math.e**(x1+x2)\n",
    "\n",
    "def der_x1(x1,x2):\n",
    "    return 2*x1+math.e**(x1+x2)\n",
    "\n",
    "def der_x2(x1,x2):\n",
    "    return 4*x2+math.e**(x1+x2)\n",
    "\n",
    "\n",
    "\n",
    "def plot_function():\n",
    "    x1 = np.linspace(-30, 4, 20)#размер поля\n",
    "    x2 = np.linspace(-30, 4, 20)#размер поля\n",
    "    y = np.array([[F(dx1,dx2) for dx1 in x1] for dx2 in x2])\n",
    "\n",
    "    mx1,mx2 = np.meshgrid(x1,x2)\n",
    "\n",
    "    fig = plt.figure()\n",
    "    ax = fig.add_subplot(111, projection='3d')\n",
    "    ax.plot_surface(mx1,mx2,y,cmap='inferno', alpha = 0.5)\n",
    "\n",
    "\n",
    "    nx1 = -30\n",
    "    nx2 = -30\n",
    "    dx1 = der_x1(nx1,nx2)\n",
    "    dx2 = der_x2(nx1,nx2)\n",
    "    h = 0.1\n",
    "    e = 0.5\n",
    "    while abs(dx1)> e and abs(dx2) > e:\n",
    "        nx1 = nx1 - h*dx1\n",
    "        nx2 = nx2 - h*dx2\n",
    "        ax.scatter(nx1,nx2, F(nx1, nx2))\n",
    "        dx1 = der_x1(nx1,nx2)\n",
    "        dx2 = der_x2(nx1,nx2)\n",
    "\n",
    "\n",
    "    plt.show()\n",
    "\n",
    "\n",
    "plot_function()"
   ]
  },
  {
   "cell_type": "code",
   "execution_count": null,
   "metadata": {},
   "outputs": [],
   "source": []
  }
 ],
 "metadata": {
  "kernelspec": {
   "display_name": "Python 3",
   "language": "python",
   "name": "python3"
  },
  "language_info": {
   "codemirror_mode": {
    "name": "ipython",
    "version": 3
   },
   "file_extension": ".py",
   "mimetype": "text/x-python",
   "name": "python",
   "nbconvert_exporter": "python",
   "pygments_lexer": "ipython3",
   "version": "3.8.8"
  }
 },
 "nbformat": 4,
 "nbformat_minor": 4
}
